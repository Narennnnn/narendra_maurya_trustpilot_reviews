{
  "nbformat": 4,
  "nbformat_minor": 0,
  "metadata": {
    "colab": {
      "provenance": [],
      "authorship_tag": "ABX9TyOE3T+c+N3kNDg3Hz6H54T/",
      "include_colab_link": true
    },
    "kernelspec": {
      "name": "python3",
      "display_name": "Python 3"
    },
    "language_info": {
      "name": "python"
    }
  },
  "cells": [
    {
      "cell_type": "markdown",
      "metadata": {
        "id": "view-in-github",
        "colab_type": "text"
      },
      "source": [
        "<a href=\"https://colab.research.google.com/github/Narennnnn/narendra_maurya_trustpilot_reviews/blob/main/narendra_maurya_truspilot_reviews_improvised.ipynb\" target=\"_parent\"><img src=\"https://colab.research.google.com/assets/colab-badge.svg\" alt=\"Open In Colab\"/></a>"
      ]
    },
    {
      "cell_type": "code",
      "source": [
        "\n",
        "import pandas as pd\n",
        "import numpy as np\n",
        "import re\n",
        "import nltk\n",
        "from nltk.corpus import stopwords\n",
        "from nltk.tokenize import word_tokenize\n",
        "from nltk.stem import WordNetLemmatizer\n",
        "from sklearn.feature_extraction.text import TfidfVectorizer\n",
        "from sklearn.multioutput import MultiOutputClassifier\n",
        "from sklearn.ensemble import RandomForestClassifier\n",
        "from sklearn.model_selection import train_test_split, GridSearchCV\n",
        "from sklearn.metrics import accuracy_score, classification_report\n",
        "from sklearn.preprocessing import MultiLabelBinarizer\n",
        "from imblearn.over_sampling import SMOTENC\n",
        "\n",
        "nltk.download('punkt')\n",
        "nltk.download('stopwords')\n",
        "nltk.download('wordnet')\n",
        "\n",
        "data = pd.read_csv('/content/[Data] Novo Reviews - Novo\\'s Trust Pilot Ratings.csv')\n",
        "# Cleaning and preprocessing\n",
        "data = data.loc[:, ~data.columns.str.contains('^Unnamed')]\n",
        "if 'Issue' in data.columns:\n",
        "    data = data.drop(columns=['Issue'])\n",
        "\n",
        "stop_words = set(stopwords.words('english'))\n",
        "lemmatizer = WordNetLemmatizer()\n",
        "\n",
        "def preprocess_text(text):\n",
        "    text = re.sub('[^a-zA-Z]', ' ', text)\n",
        "    text = text.lower()\n",
        "    tokens = word_tokenize(text)\n",
        "    tokens = [lemmatizer.lemmatize(token) for token in tokens if token not in stop_words]\n",
        "    return ' '.join(tokens)\n",
        "\n",
        "data['processed_text'] = data['Review text'].apply(preprocess_text)\n",
        "\n"
      ],
      "metadata": {
        "colab": {
          "base_uri": "https://localhost:8080/"
        },
        "id": "VJ7LrpxEK_Xf",
        "outputId": "72d860dc-9f1c-450d-d0eb-5a34a838a058"
      },
      "execution_count": 177,
      "outputs": [
        {
          "output_type": "stream",
          "name": "stderr",
          "text": [
            "[nltk_data] Downloading package punkt to /root/nltk_data...\n",
            "[nltk_data]   Package punkt is already up-to-date!\n",
            "[nltk_data] Downloading package stopwords to /root/nltk_data...\n",
            "[nltk_data]   Package stopwords is already up-to-date!\n",
            "[nltk_data] Downloading package wordnet to /root/nltk_data...\n",
            "[nltk_data]   Package wordnet is already up-to-date!\n"
          ]
        }
      ]
    },
    {
      "cell_type": "code",
      "source": [
        "print(data.head())"
      ],
      "metadata": {
        "colab": {
          "base_uri": "https://localhost:8080/"
        },
        "id": "8KmZa9z-RNHv",
        "outputId": "147c5082-59bb-4a5e-d6d2-7ea15e420553"
      },
      "execution_count": 178,
      "outputs": [
        {
          "output_type": "stream",
          "name": "stdout",
          "text": [
            "                   rating                 rating title  \\\n",
            "0  Rated 5 out of 5 stars    Great bank for businesses   \n",
            "1  Rated 3 out of 5 stars  Buggy when it matters most.   \n",
            "2  Rated 5 out of 5 stars         Love digital banking   \n",
            "3  Rated 3 out of 5 stars    Poor support and no wires   \n",
            "4  Rated 4 out of 5 stars        Really easy to set up   \n",
            "\n",
            "                                         Review text   Review date  \\\n",
            "0  It was easy to set up, with no hassle like som...  Feb 15, 2024   \n",
            "1  Unfortunately I’m probably going to figure out...  Feb 19, 2024   \n",
            "2  Love digital banking I keep now all my busines...   Feb 1, 2024   \n",
            "3  A decent basic free business bank, but have re...   Feb 8, 2024   \n",
            "4  Really easy to set up. Works as intended most ...  Jan 10, 2024   \n",
            "\n",
            "  Date of Experience  rating_procesed  Year of review   Year of experience  \\\n",
            "0  December 01, 2023                5             2024                2023   \n",
            "1  February 18, 2024                3             2024                2024   \n",
            "2  February 01, 2024                5             2024                2024   \n",
            "3  February 07, 2024                3             2024                2024   \n",
            "4   January 10, 2024                4             2024                2024   \n",
            "\n",
            "   DIff in months                                      processed_text  \n",
            "0                2  easy set hassle like bank making name ein chan...  \n",
            "1                0  unfortunately probably going figure new busine...  \n",
            "2                0  love digital banking keep business account dig...  \n",
            "3                0  decent basic free business bank regular issue ...  \n",
            "4                0  really easy set work intended time disruption ...  \n"
          ]
        }
      ]
    },
    {
      "cell_type": "code",
      "source": [
        "intent_categories = {\n",
        "    'Account -> Lost password or Incorrect Password': ['password', 'login', 'account'],\n",
        "    'Checks -> Mobile deposits -> Void checks': ['check', 'deposit', 'void'],\n",
        "    'Debit card -> Declined -> Unauthorized transactions -> fraud': ['unauthorized', 'fraud'],\n",
        "    'Invoices -> sent -> unpaid': ['invoice', 'unpaid'],\n",
        "    'Invoices -> sent -> paid': ['invoice', 'paid'],\n",
        "}\n",
        "\n",
        "\n",
        "def assign_intent(text):\n",
        "    intents = []\n",
        "    for intent, keywords in intent_categories.items():\n",
        "        if any(keyword in text for keyword in keywords):\n",
        "            intents.append(intent)\n",
        "    return intents\n",
        "\n",
        "data['intents'] = data['processed_text'].apply(assign_intent)\n"
      ],
      "metadata": {
        "id": "CTodEnV0LT_7"
      },
      "execution_count": 179,
      "outputs": []
    },
    {
      "cell_type": "code",
      "source": [
        "# Initializing MultiLabelBinarizer for multi-label classification targets (y)\n",
        "# and TF-IDF vectorizer for text feature extraction (X).\n",
        "\n",
        "mlb = MultiLabelBinarizer()\n",
        "y = mlb.fit_transform(data['intents'])\n",
        "\n",
        "tfidf_vectorizer = TfidfVectorizer(max_features=1000, ngram_range=(1, 2))\n",
        "X = tfidf_vectorizer.fit_transform(data['processed_text'])\n"
      ],
      "metadata": {
        "id": "nQBFmXDELzfk"
      },
      "execution_count": 180,
      "outputs": []
    },
    {
      "cell_type": "code",
      "source": [
        "# Splitting data into train and test sets\n",
        "X_train, X_test, y_train, y_test = train_test_split(X, y, test_size=0.2, random_state=42)\n",
        "forest_clf = RandomForestClassifier(random_state=42)"
      ],
      "metadata": {
        "id": "LJQjDNdEL22W"
      },
      "execution_count": 181,
      "outputs": []
    },
    {
      "cell_type": "code",
      "source": [
        "\n",
        "# Training the model\n",
        "forest_clf.fit(X_train, y_train)"
      ],
      "metadata": {
        "colab": {
          "base_uri": "https://localhost:8080/",
          "height": 75
        },
        "id": "onTDXu3dL9Hl",
        "outputId": "cff39261-44e0-40ca-f1a8-71464d7eca7a"
      },
      "execution_count": 182,
      "outputs": [
        {
          "output_type": "execute_result",
          "data": {
            "text/plain": [
              "RandomForestClassifier(random_state=42)"
            ],
            "text/html": [
              "<style>#sk-container-id-11 {color: black;background-color: white;}#sk-container-id-11 pre{padding: 0;}#sk-container-id-11 div.sk-toggleable {background-color: white;}#sk-container-id-11 label.sk-toggleable__label {cursor: pointer;display: block;width: 100%;margin-bottom: 0;padding: 0.3em;box-sizing: border-box;text-align: center;}#sk-container-id-11 label.sk-toggleable__label-arrow:before {content: \"▸\";float: left;margin-right: 0.25em;color: #696969;}#sk-container-id-11 label.sk-toggleable__label-arrow:hover:before {color: black;}#sk-container-id-11 div.sk-estimator:hover label.sk-toggleable__label-arrow:before {color: black;}#sk-container-id-11 div.sk-toggleable__content {max-height: 0;max-width: 0;overflow: hidden;text-align: left;background-color: #f0f8ff;}#sk-container-id-11 div.sk-toggleable__content pre {margin: 0.2em;color: black;border-radius: 0.25em;background-color: #f0f8ff;}#sk-container-id-11 input.sk-toggleable__control:checked~div.sk-toggleable__content {max-height: 200px;max-width: 100%;overflow: auto;}#sk-container-id-11 input.sk-toggleable__control:checked~label.sk-toggleable__label-arrow:before {content: \"▾\";}#sk-container-id-11 div.sk-estimator input.sk-toggleable__control:checked~label.sk-toggleable__label {background-color: #d4ebff;}#sk-container-id-11 div.sk-label input.sk-toggleable__control:checked~label.sk-toggleable__label {background-color: #d4ebff;}#sk-container-id-11 input.sk-hidden--visually {border: 0;clip: rect(1px 1px 1px 1px);clip: rect(1px, 1px, 1px, 1px);height: 1px;margin: -1px;overflow: hidden;padding: 0;position: absolute;width: 1px;}#sk-container-id-11 div.sk-estimator {font-family: monospace;background-color: #f0f8ff;border: 1px dotted black;border-radius: 0.25em;box-sizing: border-box;margin-bottom: 0.5em;}#sk-container-id-11 div.sk-estimator:hover {background-color: #d4ebff;}#sk-container-id-11 div.sk-parallel-item::after {content: \"\";width: 100%;border-bottom: 1px solid gray;flex-grow: 1;}#sk-container-id-11 div.sk-label:hover label.sk-toggleable__label {background-color: #d4ebff;}#sk-container-id-11 div.sk-serial::before {content: \"\";position: absolute;border-left: 1px solid gray;box-sizing: border-box;top: 0;bottom: 0;left: 50%;z-index: 0;}#sk-container-id-11 div.sk-serial {display: flex;flex-direction: column;align-items: center;background-color: white;padding-right: 0.2em;padding-left: 0.2em;position: relative;}#sk-container-id-11 div.sk-item {position: relative;z-index: 1;}#sk-container-id-11 div.sk-parallel {display: flex;align-items: stretch;justify-content: center;background-color: white;position: relative;}#sk-container-id-11 div.sk-item::before, #sk-container-id-11 div.sk-parallel-item::before {content: \"\";position: absolute;border-left: 1px solid gray;box-sizing: border-box;top: 0;bottom: 0;left: 50%;z-index: -1;}#sk-container-id-11 div.sk-parallel-item {display: flex;flex-direction: column;z-index: 1;position: relative;background-color: white;}#sk-container-id-11 div.sk-parallel-item:first-child::after {align-self: flex-end;width: 50%;}#sk-container-id-11 div.sk-parallel-item:last-child::after {align-self: flex-start;width: 50%;}#sk-container-id-11 div.sk-parallel-item:only-child::after {width: 0;}#sk-container-id-11 div.sk-dashed-wrapped {border: 1px dashed gray;margin: 0 0.4em 0.5em 0.4em;box-sizing: border-box;padding-bottom: 0.4em;background-color: white;}#sk-container-id-11 div.sk-label label {font-family: monospace;font-weight: bold;display: inline-block;line-height: 1.2em;}#sk-container-id-11 div.sk-label-container {text-align: center;}#sk-container-id-11 div.sk-container {/* jupyter's `normalize.less` sets `[hidden] { display: none; }` but bootstrap.min.css set `[hidden] { display: none !important; }` so we also need the `!important` here to be able to override the default hidden behavior on the sphinx rendered scikit-learn.org. See: https://github.com/scikit-learn/scikit-learn/issues/21755 */display: inline-block !important;position: relative;}#sk-container-id-11 div.sk-text-repr-fallback {display: none;}</style><div id=\"sk-container-id-11\" class=\"sk-top-container\"><div class=\"sk-text-repr-fallback\"><pre>RandomForestClassifier(random_state=42)</pre><b>In a Jupyter environment, please rerun this cell to show the HTML representation or trust the notebook. <br />On GitHub, the HTML representation is unable to render, please try loading this page with nbviewer.org.</b></div><div class=\"sk-container\" hidden><div class=\"sk-item\"><div class=\"sk-estimator sk-toggleable\"><input class=\"sk-toggleable__control sk-hidden--visually\" id=\"sk-estimator-id-13\" type=\"checkbox\" checked><label for=\"sk-estimator-id-13\" class=\"sk-toggleable__label sk-toggleable__label-arrow\">RandomForestClassifier</label><div class=\"sk-toggleable__content\"><pre>RandomForestClassifier(random_state=42)</pre></div></div></div></div></div>"
            ]
          },
          "metadata": {},
          "execution_count": 182
        }
      ]
    },
    {
      "cell_type": "code",
      "source": [
        "# Predict on the test data\n",
        "y_pred = forest_clf.predict(X_test)"
      ],
      "metadata": {
        "id": "_mFTzZrEMBih"
      },
      "execution_count": 183,
      "outputs": []
    },
    {
      "cell_type": "code",
      "source": [
        "# Evaluate model performance\n",
        "accuracy = accuracy_score(y_test, y_pred)\n",
        "print(f'Accuracy: {accuracy:.2f}')\n",
        "print(classification_report(y_test, y_pred, target_names=mlb.classes_, zero_division=1))"
      ],
      "metadata": {
        "colab": {
          "base_uri": "https://localhost:8080/"
        },
        "id": "hF64aMU8MGTG",
        "outputId": "879e29f7-f7eb-4f7f-b318-dbec97295f83"
      },
      "execution_count": 184,
      "outputs": [
        {
          "output_type": "stream",
          "name": "stdout",
          "text": [
            "Accuracy: 0.95\n",
            "                                                              precision    recall  f1-score   support\n",
            "\n",
            "              Account -> Lost password or Incorrect Password       1.00      0.98      0.99       190\n",
            "                    Checks -> Mobile deposits -> Void checks       1.00      0.92      0.96        91\n",
            "Debit card -> Declined -> Unauthorized transactions -> fraud       1.00      0.32      0.49        28\n",
            "                                    Invoices -> sent -> paid       1.00      0.57      0.73        21\n",
            "                                  Invoices -> sent -> unpaid       1.00      0.69      0.81        16\n",
            "\n",
            "                                                   micro avg       1.00      0.87      0.93       346\n",
            "                                                   macro avg       1.00      0.70      0.80       346\n",
            "                                                weighted avg       1.00      0.87      0.92       346\n",
            "                                                 samples avg       1.00      0.96      0.97       346\n",
            "\n"
          ]
        }
      ]
    },
    {
      "cell_type": "code",
      "source": [
        "user_inputs = [\n",
        "    \"I'm having trouble logging into my account. It says my password is incorrect.\",\n",
        "    \"I tried to deposit a check using the mobile app but it didn't work.\",\n",
        "    \"There's a dispute over an unpaid invoice I received.\",\n",
        "    \"I want to pay an invoice that's pending.\",\n",
        "    \"I forgot my account login details.\",\n",
        "    \"I attempted to void a check but couldn't complete the process.\",\n",
        "    \"I believe there are unauthorized transactions on my debit card.\",\n",
        "    \"I need to confirm the status of an unpaid invoice.\",\n",
        "]\n",
        "print(\"Predicted intents/categories for each input:\")\n",
        "for user_input in user_inputs:\n",
        "    processed_input = preprocess_text(user_input)\n",
        "    # Vectorize user input\n",
        "    input_vectorized = tfidf_vectorizer.transform([processed_input])\n",
        "    # Predict using the trained model\n",
        "    predictions = forest_clf.predict(input_vectorized)\n",
        "    # Inverse transform predictions to get intent labels\n",
        "    predicted_labels = mlb.inverse_transform(predictions)\n",
        "\n",
        "    print(f\"Input: {user_input}\")\n",
        "    print(\"Predicted intents/categories:\")\n",
        "    for label in predicted_labels[0]:\n",
        "        print(\"-\", label)\n",
        "    print()"
      ],
      "metadata": {
        "colab": {
          "base_uri": "https://localhost:8080/"
        },
        "id": "MpgDcWohMifB",
        "outputId": "cdde6161-abfa-431b-b33f-8d074663297a"
      },
      "execution_count": 187,
      "outputs": [
        {
          "output_type": "stream",
          "name": "stdout",
          "text": [
            "Predicted intents/categories for each input:\n",
            "Input: I'm having trouble logging into my account. It says my password is incorrect.\n",
            "Predicted intents/categories:\n",
            "- Account -> Lost password or Incorrect Password\n",
            "\n",
            "Input: I tried to deposit a check using the mobile app but it didn't work.\n",
            "Predicted intents/categories:\n",
            "- Checks -> Mobile deposits -> Void checks\n",
            "\n",
            "Input: There's a dispute over an unpaid invoice I received.\n",
            "Predicted intents/categories:\n",
            "- Invoices -> sent -> paid\n",
            "- Invoices -> sent -> unpaid\n",
            "\n",
            "Input: I want to pay an invoice that's pending.\n",
            "Predicted intents/categories:\n",
            "- Invoices -> sent -> paid\n",
            "- Invoices -> sent -> unpaid\n",
            "\n",
            "Input: I forgot my account login details.\n",
            "Predicted intents/categories:\n",
            "- Account -> Lost password or Incorrect Password\n",
            "\n",
            "Input: I attempted to void a check but couldn't complete the process.\n",
            "Predicted intents/categories:\n",
            "- Checks -> Mobile deposits -> Void checks\n",
            "\n",
            "Input: I believe there are unauthorized transactions on my debit card.\n",
            "Predicted intents/categories:\n",
            "\n",
            "Input: I need to confirm the status of an unpaid invoice.\n",
            "Predicted intents/categories:\n",
            "- Invoices -> sent -> paid\n",
            "- Invoices -> sent -> unpaid\n",
            "\n"
          ]
        }
      ]
    }
  ]
}